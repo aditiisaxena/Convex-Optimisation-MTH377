{
 "cells": [
  {
   "attachments": {},
   "cell_type": "markdown",
   "metadata": {},
   "source": [
    "# Problem 1\n",
    "\n",
    "## Part A\n",
    "```\n",
    "f(x) = x^2 + log(x)\n",
    "```\n",
    "L(x) = f(x0) + f'(x0)(x-x0)<br>\n",
    "<br>\n",
    "Since,  f'(x) = 2x + 1/x<br>\n",
    "        f'(1) = 2 + 1 = 3<br>\n",
    "        <br>\n",
    "and,    x0 = 1<br>\n",
    "        f(1) = 1^2 + log(1) <br>\n",
    "        f(1) = 1 + 0 = 1<br>\n",
    "        <br>\n",
    "Therefore,  L(x) = 1 + 3(x-1)<br>\n",
    "            L(x) = 3x - 2\n",
    "            \n",
    "```\n",
    "L(x) = 3x - 2\n",
    "```\n",
    "Q(x) = f(x0) + f'(x0)(x-x0) + (f''(x0)((x-x0)^2))/2<br>\n",
    "<br>\n",
    "Since,  f''(x) = 2 + (-1/x^2)<br>\n",
    "        f''(1) = 2 - 1 = 1<br>\n",
    "        <br>\n",
    "Therefore,  Q(x) = 1 + 3(x-1) + ((x-1)^2)/2<br>\n",
    "            Q(x) = 3x - 2 + (x-1)^2/2<br>\n",
    "            Q(x) = 3x - 2 + (x^2 - 2x + 1)/2<br>\n",
    "            Q(x) = 3x - 2 + (x^2 - 2x + 1)/2<br>\n",
    "            Q(x) = 3x - 2 + x^2/2 - x + 1/2<br>\n",
    "            Q(x) = x^2/2 + 2x - 3/2<br>\n",
    "            \n",
    "```\n",
    "Q(x) = x^2/2 + 2x - 3/2\n",
    "```"
   ]
  },
  {
   "cell_type": "code",
   "execution_count": 22,
   "metadata": {},
   "outputs": [
    {
     "name": "stderr",
     "output_type": "stream",
     "text": [
      "C:\\Users\\aditi\\AppData\\Local\\Temp\\ipykernel_44296\\268736114.py:5: RuntimeWarning: divide by zero encountered in log\n",
      "  return x**2 + np.log(x)\n"
     ]
    },
    {
     "data": {
      "image/png": "[encoded data removed]",
      "text/plain": [
       "<Figure size 432x288 with 1 Axes>"
      ]
     },
     "metadata": {
      "needs_background": "light"
     },
     "output_type": "display_data"
    }
   ],
   "source": [
    "import numpy as np\n",
    "import matplotlib.pyplot as plt\n",
    "\n",
    "def f(x):\n",
    "    return x**2 + np.log(x)\n",
    "\n",
    "def L(x):\n",
    "    return 3*x - 2\n",
    "\n",
    "def Q(x):\n",
    "    return x**2/2 + 2*x - 3/2\n",
    "\n",
    "x = np.linspace(0, 2, 100)\n",
    "\n",
    "plt.plot(x, f(x), label='f(x)')\n",
    "plt.plot(x, L(x), label='L(x)')\n",
    "plt.plot(x, Q(x), label='Q(x)')\n",
    "plt.legend()\n",
    "plt.show()"
   ]
  },
  {
   "attachments": {},
   "cell_type": "markdown",
   "metadata": {},
   "source": [
    "## Part B\n",
    "```\n",
    "eL(x) = f(x) − L(x)\n",
    "and\n",
    "eQ(x) = f(x) − Q(x)\n",
    "```\n",
    "To plot,    \n",
    "```\n",
    "eL(x)/(x-1)\n",
    "and\n",
    "eQ(x)/(x-1)^2\n",
    "```"
   ]
  },
  {
   "cell_type": "code",
   "execution_count": 23,
   "metadata": {},
   "outputs": [
    {
     "name": "stderr",
     "output_type": "stream",
     "text": [
      "C:\\Users\\aditi\\AppData\\Local\\Temp\\ipykernel_44296\\3251189736.py:5: RuntimeWarning: divide by zero encountered in log\n",
      "  return x**2 + np.log(x)\n"
     ]
    },
    {
     "data": {
      "image/png": "[encoded data removed]",
      "text/plain": [
       "<Figure size 432x288 with 1 Axes>"
      ]
     },
     "metadata": {
      "needs_background": "light"
     },
     "output_type": "display_data"
    }
   ],
   "source": [
    "import numpy as np\n",
    "import matplotlib.pyplot as plt\n",
    "\n",
    "def f(x):\n",
    "    return x**2 + np.log(x)\n",
    "\n",
    "def L(x):\n",
    "    return 3*x - 2\n",
    "\n",
    "def Q(x):\n",
    "    return x**2/2 + 2*x - 3/2\n",
    "\n",
    "def eL(x):\n",
    "    return f(x) - L(x)\n",
    "\n",
    "def eQ(x):\n",
    "    return f(x) - Q(x)\n",
    "\n",
    "x = np.linspace(0, 2, 100)\n",
    "\n",
    "plt.plot(x, eL(x)/(x-1), label='eL(x)/(x-1)')\n",
    "plt.plot(x, eQ(x)/(x-1)**2, label='eQ(x)/(x-1)^2')\n",
    "plt.legend()\n",
    "plt.show()"
   ]
  },
  {
   "attachments": {},
   "cell_type": "markdown",
   "metadata": {},
   "source": [
    "# Problem 2\n",
    "```\n",
    "f(x, y) = (x^2 - 3y^2) + (sin(x^2 + y^2))^2\n",
    "```\n",
    "∇f(x,y) = [∂f(x, y)/∂x, ∂f(x, y)/∂y]<br>\n",
    "```\n",
    "∇f(x,y) = [4x(x^2 - 3y^2) + 4xsin(x^2 + y^2)cos(x^2 + y^2), -6y(x^2 - 3y^2) + 4ysin(x^2 + y^2)cos(x^2 + y^2)]\n",
    "```\n"
   ]
  },
  {
   "cell_type": "code",
   "execution_count": 27,
   "metadata": {},
   "outputs": [
    {
     "name": "stdout",
     "output_type": "stream",
     "text": [
      "Minimum at: (-0.09575,-0.05528)\n",
      "Minimum Value: 0.00015\n"
     ]
    }
   ],
   "source": [
    "import numpy as np\n",
    "\n",
    "def f(x, y):\n",
    "    return (x**2 - 3*y**2)**2 + np.sin(x**2 + y**2)**2\n",
    "\n",
    "def gradient(x, y):\n",
    "    grad_x = 4*x*(x**2 - 3*y**2) + 4*x*np.sin(x**2 + y**2)*np.cos(x**2 + y**2)\n",
    "    grad_y = -6*y*(x**2 - 3*y**2) + 4*y*np.sin(x**2 + y**2)*np.cos(x**2 + y**2)\n",
    "    return grad_x, grad_y\n",
    "\n",
    "def descend():\n",
    "    x = y = 1\n",
    "    for i in range(100):\n",
    "        grad_x, grad_y = gradient(x, y)\n",
    "        x -= 0.1*grad_x\n",
    "        y -= 0.1*grad_y\n",
    "    return x, y\n",
    "\n",
    "min_x, min_y = descend()\n",
    "print(\"Minimum at: (\"+str(round(min_x, 5))+\",\"+str(round(min_y, 5))+\")\")\n",
    "print(\"Minimum Value:\", round(f(min_x, min_y), 5))"
   ]
  },
  {
   "attachments": {},
   "cell_type": "markdown",
   "metadata": {},
   "source": [
    "# Problem 3\n",
    "```\n",
    "g1(X1, x2) = 2x2 - x1\n",
    "g2(X1, x2) = 2x1 - x2 \n",
    "g3(X1, x2) = 1 - x1 - x2\n",
    "```\n",
    "∇Ψ(x1, x2) = [∂Ψ(x1, x2)/∂x1, ∂Ψ(x1, x2)/∂x2]<br>\n",
    "```\n",
    "∇Ψ(x1, x2) = [1/g1(x1, x2) - 2/g2(x1, x2) + 1/g3(x1, x2), -2/g1(x1, x2) + 1/g2(x1, x2) + 1/g3(x1, x2)]\n",
    "```"
   ]
  },
  {
   "cell_type": "code",
   "execution_count": 30,
   "metadata": {},
   "outputs": [
    {
     "name": "stdout",
     "output_type": "stream",
     "text": [
      "Analytic center: (-5.34036,-5.34036)\n"
     ]
    }
   ],
   "source": [
    "import numpy as np\n",
    "\n",
    "def g1(x1, x2):\n",
    "    return 2*x2 - x1\n",
    "\n",
    "def g2(x1, x2):\n",
    "    return 2*x1 - x2\n",
    "\n",
    "def g3(x1, x2):\n",
    "    return 1 - x1 - x2\n",
    "\n",
    "def gradient(x1, x2):\n",
    "    grad_x1 = 1/g1(x1, x2) - 2/g2(x1, x2) + 1/g3(x1, x2)\n",
    "    grad_x2 = -2/g1(x1, x2) + 1/g2(x1, x2) + 1/g3(x1, x2)\n",
    "    return grad_x1, grad_x2\n",
    "\n",
    "def descend():\n",
    "    x1 = x2 = 0.25\n",
    "    for i in range(100):\n",
    "        grad_x1, grad_x2 = gradient(x1, x2)\n",
    "        x1 -= 0.1*grad_x1\n",
    "        x2 -= 0.1*grad_x2\n",
    "    return x1, x2\n",
    "\n",
    "center_x1, center_x2 = descend()\n",
    "print(\"Analytic center: (\"+str(round(center_x1, 5))+\",\"+str(round(center_x2, 5))+\")\")"
   ]
  }
 ],
 "metadata": {
  "kernelspec": {
   "display_name": "Python 3",
   "language": "python",
   "name": "python3"
  },
  "language_info": {
   "codemirror_mode": {
    "name": "ipython",
    "version": 3
   },
   "file_extension": ".py",
   "mimetype": "text/x-python",
   "name": "python",
   "nbconvert_exporter": "python",
   "pygments_lexer": "ipython3",
   "version": "3.9.13"
  },
  "orig_nbformat": 4,
  "vscode": {
   "interpreter": {
    "hash": "26a3cffd5f7a2724922a6aa05ca9c5d61dc993dd43746af46199d47f632ed425"
   }
  }
 },
 "nbformat": 4,
 "nbformat_minor": 2
}
