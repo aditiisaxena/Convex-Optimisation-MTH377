{
 "cells": [
  {
   "attachments": {},
   "cell_type": "markdown",
   "metadata": {},
   "source": [
    "# Problem 1\n",
    "```\n",
    "f(x) = x^2 + log(x)\n",
    "```\n",
    "L(x) = f(x0) + f'(x0)(x-x0)<br>\n",
    "<br>\n",
    "Since,  f'(x) = 2x + 1/x<br>\n",
    "        f'(1) = 2 + 1 = 3<br>\n",
    "        <br>\n",
    "and,    x0 = 1<br>\n",
    "        f(1) = 1^2 + log(1) <br>\n",
    "        f(1) = 1 + 0 = 1<br>\n",
    "        <br>\n",
    "Therefore,  L(x) = 1 + 3(x-1)<br>\n",
    "            L(x) = 3x - 2\n",
    "\n",
    "```\n",
    "L(x) = 3x - 2\n",
    "```\n",
    "Q(x) = f(x0) + f'(x0)(x-x0) + (f''(x0)((x-x0)^2))/2<br>\n",
    "<br>\n",
    "Since,  f''(x) = 2 + (-1/x^2)<br>\n",
    "        f''(1) = 2 - 1 = 1<br>\n",
    "        <br>\n",
    "Therefore,  Q(x) = 1 + 3(x-1) + ((x-1)^2)/2<br>\n",
    "            Q(x) = 3x - 2 + (x-1)^2/2<br>\n",
    "            Q(x) = 3x - 2 + (x^2 - 2x + 1)/2<br>\n",
    "            Q(x) = 3x - 2 + (x^2 - 2x + 1)/2<br>\n",
    "            Q(x) = 3x - 2 + x^2/2 - x + 1/2<br>\n",
    "            Q(x) = x^2/2 + 2x - 3/2<br>\n",
    "            \n",
    "```\n",
    "Q(x) = x^2/2 + 2x - 3/2\n",
    "```"
   ]
  },
  {
   "cell_type": "code",
   "execution_count": 10,
   "metadata": {},
   "outputs": [
    {
     "name": "stderr",
     "output_type": "stream",
     "text": [
      "C:\\Users\\aditi\\AppData\\Local\\Temp\\ipykernel_22552\\1228862720.py:5: RuntimeWarning: divide by zero encountered in log\n",
      "  return x**2 + np.log(x)\n"
     ]
    },
    {
     "data": {
      "image/png": "[encoded data removed]",
      "text/plain": [
       "<Figure size 432x288 with 1 Axes>"
      ]
     },
     "metadata": {
      "needs_background": "light"
     },
     "output_type": "display_data"
    }
   ],
   "source": [
    "import numpy as np\n",
    "import matplotlib.pyplot as plt\n",
    "\n",
    "def f(x):\n",
    "    return x**2 + np.log(x)\n",
    "\n",
    "def L(x):\n",
    "    return 3*x - 2\n",
    "\n",
    "def Q(x):\n",
    "    return x**2/2 + 2*x - 3/2\n",
    "\n",
    "x = np.linspace(0, 2, 100)\n",
    "\n",
    "yf = f(x)\n",
    "yL = L(x)\n",
    "yQ = Q(x)\n",
    "\n",
    "plt.plot(x, yf, label='f(x)')\n",
    "plt.plot(x, yL, label='L(x)')\n",
    "plt.plot(x, yQ, label='Q(x)')\n",
    "plt.legend()\n",
    "plt.show()"
   ]
  }
 ],
 "metadata": {
  "kernelspec": {
   "display_name": "Python 3",
   "language": "python",
   "name": "python3"
  },
  "language_info": {
   "codemirror_mode": {
    "name": "ipython",
    "version": 3
   },
   "file_extension": ".py",
   "mimetype": "text/x-python",
   "name": "python",
   "nbconvert_exporter": "python",
   "pygments_lexer": "ipython3",
   "version": "3.9.13"
  },
  "orig_nbformat": 4,
  "vscode": {
   "interpreter": {
    "hash": "26a3cffd5f7a2724922a6aa05ca9c5d61dc993dd43746af46199d47f632ed425"
   }
  }
 },
 "nbformat": 4,
 "nbformat_minor": 2
}
