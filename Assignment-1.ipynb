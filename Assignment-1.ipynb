{
 "cells": [
  {
   "attachments": {},
   "cell_type": "markdown",
   "metadata": {},
   "source": [
    "# Problem 1 - Taylor Approximation\n",
    "Consider the univariate function\n",
    "```math\n",
    "f(x) = x^2 + log x\n",
    "```\n",
    "Suppose we want to approximate the function values in the vicinity of x = 1 using Taylor polynomials. Lets call the linear approximation function (linear Taylor polynomial) as L(x) and the quadratic approximation function (quadratic Taylor polynomial) as Q(x):<br>\n",
    "1. Plot f(x), L(x) and Q(x) in the interval [0, 2] in the same graph.\n",
    "2. Let the error associated with the linear approximation be given by eL(x) = f(x) − L(x), and the error associated with the quadratic approximation be given by eQ(x) = f(x)−Q(x). Plot eL(x)/x−1 and eQ(x)/((x−1)^2) in the interval [0, 2] in the same graph.\n",
    "## Part 1 Solution\n",
    "```\n",
    "f(x) = x^2 + log(x)\n",
    "```\n",
    "L(x) = f(x0) + f'(x0)(x-x0)<br>\n",
    "<br>\n",
    "Since,  f'(x) = 2x + 1/x<br>\n",
    "        f'(1) = 2 + 1 = 3<br>\n",
    "        <br>\n",
    "and,    x0 = 1<br>\n",
    "        f(1) = 1^2 + log(1) <br>\n",
    "        f(1) = 1 + 0 = 1<br>\n",
    "        <br>\n",
    "Therefore,  L(x) = 1 + 3(x-1)<br>\n",
    "            L(x) = 3x - 2\n",
    "            \n",
    "```\n",
    "L(x) = 3x - 2\n",
    "```\n",
    "Q(x) = f(x0) + f'(x0)(x-x0) + (f''(x0)((x-x0)^2))/2<br>\n",
    "<br>\n",
    "Since,  f''(x) = 2 + (-1/x^2)<br>\n",
    "        f''(1) = 2 - 1 = 1<br>\n",
    "        <br>\n",
    "Therefore,  Q(x) = 1 + 3(x-1) + ((x-1)^2)/2<br>\n",
    "            Q(x) = 3x - 2 + (x-1)^2/2<br>\n",
    "            Q(x) = 3x - 2 + (x^2 - 2x + 1)/2<br>\n",
    "            Q(x) = 3x - 2 + (x^2 - 2x + 1)/2<br>\n",
    "            Q(x) = 3x - 2 + x^2/2 - x + 1/2<br>\n",
    "            Q(x) = x^2/2 + 2x - 3/2<br>\n",
    "            \n",
    "```\n",
    "Q(x) = x^2/2 + 2x - 3/2\n",
    "```"
   ]
  },
  {
   "cell_type": "code",
   "execution_count": 89,
   "metadata": {},
   "outputs": [
    {
     "data": {
      "image/png": "[encoded data removed]",
      "text/plain": [
       "<Figure size 432x288 with 1 Axes>"
      ]
     },
     "metadata": {
      "needs_background": "light"
     },
     "output_type": "display_data"
    }
   ],
   "source": [
    "import numpy as np\n",
    "import matplotlib.pyplot as plt\n",
    "\n",
    "def f(x):\n",
    "    return x**2 + np.log(x)\n",
    "\n",
    "def L(x):\n",
    "    return 3*x - 2\n",
    "\n",
    "def Q(x):\n",
    "    return x**2/2 + 2*x - 3/2\n",
    "\n",
    "x = np.linspace(0, 2, 100)\n",
    "while 0 in x:\n",
    "    x = np.delete(x, np.where(x == 0)) # remove 0 from x because log(0) is undefined\n",
    "\n",
    "plt.plot(x, f(x), label='f(x)')\n",
    "plt.plot(x, L(x), label='L(x)')\n",
    "plt.plot(x, Q(x), label='Q(x)')\n",
    "plt.legend()\n",
    "plt.show()"
   ]
  },
  {
   "attachments": {},
   "cell_type": "markdown",
   "metadata": {},
   "source": [
    "## Part 2 Solution\n",
    "```\n",
    "eL(x) = f(x) − L(x)\n",
    "and\n",
    "eQ(x) = f(x) − Q(x)\n",
    "```\n",
    "To plot,    \n",
    "```\n",
    "eL(x)/(x-1)\n",
    "and\n",
    "eQ(x)/(x-1)^2\n",
    "```"
   ]
  },
  {
   "cell_type": "code",
   "execution_count": 90,
   "metadata": {},
   "outputs": [
    {
     "data": {
      "image/png": "[encoded data removed]",
      "text/plain": [
       "<Figure size 432x288 with 1 Axes>"
      ]
     },
     "metadata": {
      "needs_background": "light"
     },
     "output_type": "display_data"
    }
   ],
   "source": [
    "import numpy as np\n",
    "import matplotlib.pyplot as plt\n",
    "\n",
    "def f(x):\n",
    "    return x**2 + np.log(x)\n",
    "\n",
    "def L(x):\n",
    "    return 3*x - 2\n",
    "\n",
    "def Q(x):\n",
    "    return x**2/2 + 2*x - 3/2\n",
    "\n",
    "def eL(x):\n",
    "    return f(x) - L(x)\n",
    "\n",
    "def eQ(x):\n",
    "    return f(x) - Q(x)\n",
    "\n",
    "x = np.linspace(0, 2, 100)\n",
    "while 0 in x:\n",
    "    x = np.delete(x, np.where(x == 0)) # delete 0 from x because log(0) is undefined\n",
    "while 1 in x:\n",
    "    x = np.delete(x, np.where(x == 1)) # delete 1 from x because denominator will be 0 for eL and eQ\n",
    "\n",
    "eL = eL(x) / (x-1)\n",
    "eQ = eQ(x) / (x-1)**2\n",
    "\n",
    "plt.plot(x, eL, label='eL(x)/(x-1)')\n",
    "plt.plot(x, eQ, label='eQ(x)/(x-1)^2')\n",
    "plt.legend()\n",
    "plt.show()"
   ]
  },
  {
   "attachments": {},
   "cell_type": "markdown",
   "metadata": {},
   "source": [
    "# Problem 2 - Combinational Descend Method\n",
    "Write a code to compute the unconstrained minimum of the following optimization problem by implementing a combination descent algorithm with initial point(1, 1).\n",
    "```math\n",
    "f(x, y) = (x^2 − 3y^2)^2 + (sin(x^2 + y^2))^2\n",
    "```\n",
    "### Algorithm: Line Search Subroutine\n",
    "Input: \n",
    "- x: point in the domain of f \n",
    "- d: descent direction for f at x \n",
    "- β: reduction factor (0 < β < 1) \n",
    "- α: acceptable descent parameter (0 < α < 0.5)\n",
    "\n",
    "Output: \n",
    "- t: stepsize \n",
    "\n",
    "Algorithm: \n",
    "```python\n",
    "t := 1\n",
    "while f(x) − f(x + td) < α * Df(x)(td):\n",
    "    t := β * t<br>\n",
    "return t as the stepsize\n",
    "```\n",
    "### Algorithm: Combinational Descend Method\n",
    "Input: \n",
    "- x: initial point in the domain of f \n",
    "- η: tolerance level for stopping criterion\n",
    "\n",
    "Output: \n",
    "- x: minimum point \n",
    "\n",
    "Algorithm: \n",
    "```python\n",
    "while norm(∇f(x)) > η:\n",
    "    if Hf(x) is positive definite:\n",
    "        d = [Hf(x)]^-1 * (-∇f(x))\n",
    "    else:\n",
    "        d = -∇f(x)\n",
    "    Line search: choose a stepsize t > 0 using the backtracking line search subroutine\n",
    "    x := x + td\n",
    "Return x as the minimum.\n",
    "```\n",
    "\n",
    "\n"
   ]
  },
  {
   "cell_type": "code",
   "execution_count": 91,
   "metadata": {},
   "outputs": [
    {
     "name": "stdout",
     "output_type": "stream",
     "text": [
      "[1.53499005 0.88622693]\n",
      "3.5244023582564334e-15\n"
     ]
    }
   ],
   "source": [
    "import numpy as np\n",
    "import numdifftools as nd\n",
    "\n",
    "def f(var):\n",
    "    return (var[0]**2 - 3*var[1]**2)**2 + (np.sin(var[0]**2 + var[1]**2))**2 # function to be minimized\n",
    "\n",
    "def lineSearchSubroutine(f, x, d, beta=0.5, alpha=0.5):\n",
    "    t = 1\n",
    "    while f(x) - f(x + t * d) < -t*alpha*np.dot(nd.Gradient(f)(x), d): # line search subroutine to find the step size\n",
    "        t = beta*t\n",
    "    return t\n",
    "\n",
    "def combinationDescent(f, x, tolerance):\n",
    "    gradient = nd.Gradient(f)(x) # gradient of the function\n",
    "    while np.linalg.norm(gradient) > tolerance: # checking if norm of gradient is less than or equal to tolerance\n",
    "        hessian = nd.Hessian(f)(x) # hessian of the function\n",
    "        evals , evecs = np.linalg.eig(hessian) # eigen values and eigen vectors of the hessian\n",
    "        test_evals = np.all(evals > 0) # checking if all eigen values are positive\n",
    "        if test_evals:\n",
    "            d = -np.linalg.inv(hessian)@gradient # if all eigen values are positive then matrix multiplication of inverse of hessian and gradient\n",
    "        else :\n",
    "            d = -gradient # if all eigen values are not positive then d is equal to negative of gradient\n",
    "        t = lineSearchSubroutine(f, x, d) # finding the step size\n",
    "        x = x + t*d\n",
    "        gradient = nd.Gradient(f)(x) # updating the gradient of the function\n",
    "    return x\n",
    "\n",
    "x = np.array([1.0, 1.0])\n",
    "tolerance = 1e-6\n",
    "y = combinationDescent(f, x, tolerance)\n",
    "print(y)\n",
    "print(f(y))"
   ]
  },
  {
   "attachments": {},
   "cell_type": "markdown",
   "metadata": {},
   "source": [
    "# Problem 3\n",
    "Given the set S defined as:\n",
    "$$ S = {x \\in \\mathbb{R}^2: g_1(x_1,x_2) \\ge 0, g_2(x_1,x_2) \\ge 0, g_3(x_1,x_2) \\ge 0} $$\n",
    "where:<br>\n",
    "$g_1(x_1,x_2) = 2x_2 - x_1$<br>\n",
    "$g_2(x_1,x_2) = 2x_1 - x_2$<br>\n",
    "$g_3(x_1,x_2) = 1 - x_1 - x_2$<br>\n",
    "The associated potential function is defined as:\n",
    "$$ \\Psi(x) = -\\sum_{j=1}^{m} \\log g_j(x) $$\n",
    "The goal is to find the analytic center of the set S, which is the vector that minimizes the potential function, i.e.,\n",
    "$$ x_{analytic_center} = \\arg\\min_{x} \\Psi(x) $$\n",
    "### Solution\n",
    "$\\nabla \\Psi(x_1, x_2) =$ $-\\Sigma \\log(g_i) =$\n",
    "$-\\log(g_1) - \\log(g_2) - \\log(g_3) =$\n",
    "$-\\log(g_1 \\cdot g_2 \\cdot g_3) =$\n",
    "$\\log\\left(\\frac{1}{g_1 \\cdot g_2 \\cdot g_3}\\right)$ <br>\n",
    "<br>\n",
    "This will be the new f(x). Beyond this, the process will be exactly the same as the previous problem(2)."
   ]
  },
  {
   "cell_type": "code",
   "execution_count": 92,
   "metadata": {},
   "outputs": [
    {
     "name": "stdout",
     "output_type": "stream",
     "text": [
      "[0.33333333 0.33333333]\n",
      "3.295836866004329\n"
     ]
    }
   ],
   "source": [
    "import numpy as np\n",
    "import numdifftools as nd\n",
    "\n",
    "def g1(x):\n",
    "    return 2*x[1] - x[0]\n",
    "\n",
    "def g2(x):\n",
    "    return 2*x[0] - x[1]\n",
    "\n",
    "def g3(x):\n",
    "    return 1 - x[0] - x[1]\n",
    "\n",
    "def f(x):\n",
    "    return np.log(1/(g1(x)*g2(x)*g3(x)))\n",
    "\n",
    "def lineSearchSubroutine(f, x, d, beta=0.5, alpha=0.5):\n",
    "    t = 1\n",
    "    while f(x) - f(x + t * d) < -t*alpha*np.dot(nd.Gradient(f)(x), d): # line search subroutine to find the step size\n",
    "        t = beta*t\n",
    "    return t\n",
    "\n",
    "def combinationDescent(f, x, tolerance):\n",
    "    gradient = nd.Gradient(f)(x) # gradient of the function\n",
    "    while np.linalg.norm(gradient) > tolerance: # checking if norm of gradient is less than or equal to tolerance\n",
    "        hessian = nd.Hessian(f)(x) # hessian of the function\n",
    "        evals , evecs = np.linalg.eig(hessian) # eigen values and eigen vectors of the hessian\n",
    "        test_evals = np.all(evals > 0) # checking if all eigen values are positive\n",
    "        if test_evals:\n",
    "            d = -np.linalg.inv(hessian)@gradient # if all eigen values are positive then matrix multiplication of inverse of hessian and gradient\n",
    "        else :\n",
    "            d = -gradient # if all eigen values are not positive then d is equal to negative of gradient\n",
    "        t = lineSearchSubroutine(f, x, d) # finding the step size\n",
    "        x = x + t*d\n",
    "        gradient = nd.Gradient(f)(x) # updating the gradient of the function\n",
    "    return x\n",
    "\n",
    "x = np.array([0.25, 0.25])\n",
    "tolerance = 1e-6 # tolerance value\n",
    "print(combinationDescent(f, x, tolerance))\n",
    "print(f(combinationDescent(f, x, tolerance)))"
   ]
  }
 ],
 "metadata": {
  "kernelspec": {
   "display_name": "Python 3",
   "language": "python",
   "name": "python3"
  },
  "language_info": {
   "codemirror_mode": {
    "name": "ipython",
    "version": 3
   },
   "file_extension": ".py",
   "mimetype": "text/x-python",
   "name": "python",
   "nbconvert_exporter": "python",
   "pygments_lexer": "ipython3",
   "version": "3.9.13"
  },
  "orig_nbformat": 4,
  "vscode": {
   "interpreter": {
    "hash": "26a3cffd5f7a2724922a6aa05ca9c5d61dc993dd43746af46199d47f632ed425"
   }
  }
 },
 "nbformat": 4,
 "nbformat_minor": 2
}
