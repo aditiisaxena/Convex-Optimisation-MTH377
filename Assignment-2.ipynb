{
 "cells": [
  {
   "cell_type": "code",
   "execution_count": 9,
   "metadata": {},
   "outputs": [
    {
     "data": {
      "image/png": "[encoded data removed]",
      "text/plain": [
       "<Figure size 432x288 with 1 Axes>"
      ]
     },
     "metadata": {
      "needs_background": "light"
     },
     "output_type": "display_data"
    }
   ],
   "source": [
    "import cvxpy as cp\n",
    "import matplotlib.pyplot as plt\n",
    "\n",
    "d = [3.5, 2]\n",
    "u1 = cp.Variable()\n",
    "u2 = cp.Variable()\n",
    "theta = cp.Parameter(nonneg=True)\n",
    "\n",
    "constraints = [u1 + 2*u2 <= 12, 2*u1 + u2 <= 12, u1 >= d[0], u2 >= d[1]]\n",
    "weighted = cp.Maximize(theta*u1 + (1-theta)*u2)\n",
    "problem = cp.Problem(weighted, constraints)\n",
    "\n",
    "utilitarian = []\n",
    "\n",
    "for i in range(11):\n",
    "    theta.value = i/10\n",
    "    problem.solve()\n",
    "    utilitarian.append(u1.value)\n",
    "\n",
    "plt.plot([i/10 for i in range(11)], utilitarian)\n",
    "plt.xlabel('Weight, θ')\n",
    "plt.ylabel('Player 1’s utilitarian optimum, u1')\n",
    "plt.show()"
   ]
  },
  {
   "cell_type": "code",
   "execution_count": 10,
   "metadata": {},
   "outputs": [
    {
     "name": "stdout",
     "output_type": "stream",
     "text": [
      "Nash bargaining Solution: (4.249999934669844, 3.5000001072596256)\n",
      "Primal Optimal Value:  0.11778302005591901\n",
      "Optimal Dual Variables:  3.6170408140313444e-09 0.6666667548200322 3.202879721090295e-09 1.5363574774749631e-09\n"
     ]
    },
    {
     "data": {
      "image/png": "[encoded data removed]",
      "text/plain": [
       "<Figure size 432x288 with 1 Axes>"
      ]
     },
     "metadata": {
      "needs_background": "light"
     },
     "output_type": "display_data"
    }
   ],
   "source": [
    "import cvxpy as cp\n",
    "import matplotlib.pyplot as plt\n",
    "\n",
    "d = [3.5, 2]\n",
    "u1 = cp.Variable()\n",
    "u2 = cp.Variable()\n",
    "\n",
    "constraints = [u1 + 2*u2 <= 12, 2*u1 + u2 <= 12, u1 >= d[0], u2 >= d[1]]\n",
    "welfare = cp.Maximize(cp.log(u1 - d[0]) + cp.log(u2 - d[1]))\n",
    "problem = cp.Problem(welfare, constraints)\n",
    "\n",
    "nash = []\n",
    "\n",
    "problem.solve()\n",
    "\n",
    "print(\"Nash bargaining Solution: ({}, {})\".format(u1.value, u2.value))\n",
    "print(\"Primal Optimal Value: \", problem.value)\n",
    "print(\"Optimal Dual Variables: \", constraints[0].dual_value, constraints[1].dual_value, constraints[2].dual_value, constraints[3].dual_value)\n",
    "\n",
    "d[1] = 2\n",
    "u1_vals = u2_vals = d1_vals = []\n",
    "\n",
    "for d1 in range(2, 6):\n",
    "    constraints = [u1 + 2*u2 <= 12, 2*u1 + u2 <= 12, u1 >= d1, u2 >= 2]\n",
    "\n",
    "    welfare = cp.Maximize(cp.log(u1 - d1) + cp.log(u2 - 2))\n",
    "    problem = cp.Problem(welfare, constraints)\n",
    "    problem.solve()\n",
    "    \n",
    "    u1_vals.append(u1.value), u2_vals.append(u2.value), d1_vals.append(d1)\n",
    "\n",
    "plt.plot(d1_vals, u1_vals, label=\"Player 1\")\n",
    "plt.plot(d1_vals, u2_vals, label=\"Player 2\")\n",
    "plt.xlabel(\"Disagreement payoff of player 1, d1\")\n",
    "plt.ylabel(\"Payoff\")\n",
    "plt.legend()\n",
    "plt.show()"
   ]
  },
  {
   "attachments": {},
   "cell_type": "markdown",
   "metadata": {},
   "source": [
    "min tf0(x) + B(x)\n",
    "x∈Rn "
   ]
  },
  {
   "cell_type": "code",
   "execution_count": 3,
   "metadata": {},
   "outputs": [
    {
     "ename": "SyntaxError",
     "evalue": "invalid syntax (2744692564.py, line 6)",
     "output_type": "error",
     "traceback": [
      "\u001b[1;36m  Input \u001b[1;32mIn [3]\u001b[1;36m\u001b[0m\n\u001b[1;33m    return t*\u001b[0m\n\u001b[1;37m             ^\u001b[0m\n\u001b[1;31mSyntaxError\u001b[0m\u001b[1;31m:\u001b[0m invalid syntax\n"
     ]
    }
   ],
   "source": [
    "import numdifftools as nd\n",
    "import numpy as np\n",
    "import matplotlib.pyplot as plt\n",
    "\n",
    "def B(x):\n",
    "    return np.sum(-np.log(-f(x)))\n",
    "\n",
    "def central_point(x, t):\n",
    "    return t*f(x) + B(x)\n",
    "\n",
    "def lineSearchSubroutine(f, x, d, beta=0.5, alpha=0.5):\n",
    "    t = 1\n",
    "    while f(x) - f(x + t * d) < -t*alpha*np.dot(nd.Gradient(f)(x), d): \n",
    "        t = beta*t\n",
    "    return t\n",
    "\n",
    "def newton(x, f, tolerance):\n",
    "    gradient = nd.Gradient(f)(x)\n",
    "    while np.linalg.norm(gradient) > tolerance:\n",
    "        hessian = nd.Hessian(f)(x)\n",
    "        d = -np.linalg.inv(hessian)@gradient\n",
    "        t = lineSearchSubroutine(f, x, d)\n",
    "        x = x + t*d\n",
    "        gradient = nd.Gradient(f)(x)\n",
    "    return x\n",
    "\n",
    "def interior_point(x0, t0, mu, eta, max_iter, f, c, d):\n",
    "    x = x0\n",
    "    t = t0\n",
    "    m = len(c)\n",
    "    while (m/t > eta):\n",
    "        t = mu*t\n",
    "        cen = newton(x, central_point(x, t), 1e-6)\n",
    "        x = cen\n",
    "    return x"
   ]
  }
 ],
 "metadata": {
  "kernelspec": {
   "display_name": "Python 3",
   "language": "python",
   "name": "python3"
  },
  "language_info": {
   "codemirror_mode": {
    "name": "ipython",
    "version": 3
   },
   "file_extension": ".py",
   "mimetype": "text/x-python",
   "name": "python",
   "nbconvert_exporter": "python",
   "pygments_lexer": "ipython3",
   "version": "3.9.13"
  },
  "orig_nbformat": 4
 },
 "nbformat": 4,
 "nbformat_minor": 2
}
