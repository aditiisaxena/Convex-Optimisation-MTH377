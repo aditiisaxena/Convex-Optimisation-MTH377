{
 "cells": [
  {
   "attachments": {},
   "cell_type": "markdown",
   "metadata": {},
   "source": [
    "# The Prisoners’ Dilemma and the Feasible Set of Payoff Vectors\n",
    "The Prisoners’ Dilemma is a well-known model that highlights the conflict between social cooperation and self-interested behavior. In a two-player Prisoners’ Dilemma, the cooperative payoff possibilities can be mathematically represented by a polytope. This polytope is defined as the convex hull of the payoff vectors (4,4), (6,0), (0,6), and (0,0).\n",
    "\n",
    "If we consider the Prisoners’ Dilemma as a bargaining situation with a disagreement point d = (d1, d2), where player i cannot receive a payoff below her disagreement point, we can describe the feasible set of payoff vectors (u1, u2) for the bargaining problem as follows: <br>\n",
    "\n",
    "$u1 + 2u2 ≤ 12$ <br>\n",
    "\n",
    "$2u1 + u2 ≤ 12$ <br>\n",
    "\n",
    "$u1 ≥ d1, u2 ≥ d2$ <br>\n",
    "\n",
    "Understanding this model is not necessary, but knowing the feasible set of payoff vectors is crucial in analyzing the Prisoners’ Dilemma."
   ]
  },
  {
   "attachments": {},
   "cell_type": "markdown",
   "metadata": {},
   "source": [
    "## Problem 1\n",
    "Suppose the disagreement point is given by d = (3.5, 2). A weighted utilitarian criterion is defined as<br>\n",
    "\n",
    "$W(u1, u2) = θu1 + (1 − θ)u2$ where $θ ∈ [0, 1]$<br>\n",
    "\n",
    "The weighted utilitarian solution of the bargaining problem, defined as<br>\n",
    "\n",
    "$max$   $W(u1, u2)$ such that $(u1, u2) ∈ F$ <br>\n",
    "$u1,u2$ <br>\n",
    "\n",
    "Plot player 1’s utilitarian optimum u1(θ) as the weight θ varies in [0, 1]."
   ]
  },
  {
   "cell_type": "code",
   "execution_count": 17,
   "metadata": {},
   "outputs": [
    {
     "data": {
      "image/png": "[encoded data removed]",
      "text/plain": [
       "<Figure size 432x288 with 1 Axes>"
      ]
     },
     "metadata": {
      "needs_background": "light"
     },
     "output_type": "display_data"
    }
   ],
   "source": [
    "import cvxpy as cp\n",
    "import matplotlib.pyplot as plt\n",
    "\n",
    "d = [3.5, 2]\n",
    "u1 = cp.Variable()\n",
    "u2 = cp.Variable()\n",
    "theta = cp.Parameter(nonneg=True)\n",
    "\n",
    "constraints = [u1 + 2*u2 <= 12, 2*u1 + u2 <= 12, u1 >= d[0], u2 >= d[1]]\n",
    "weighted = cp.Maximize(theta*u1 + (1-theta)*u2)\n",
    "problem = cp.Problem(weighted, constraints)\n",
    "\n",
    "utilitarian = []\n",
    "\n",
    "for i in range(100):\n",
    "    theta.value = i/100\n",
    "    problem.solve()\n",
    "    utilitarian.append(u1.value)\n",
    "\n",
    "plt.plot([i/100 for i in range(100)], utilitarian)\n",
    "plt.xlabel('Weight, θ')\n",
    "plt.ylabel('Player 1’s utilitarian optimum, u1')\n",
    "plt.show()"
   ]
  },
  {
   "attachments": {},
   "cell_type": "markdown",
   "metadata": {},
   "source": [
    "## Problem 2\n",
    "Suppose the disagreement point is given by d = (3.5, 2). A Nash welfare criterion is defined\n",
    "as<br>\n",
    "\n",
    "$N(u1, u2) = log(u1 − d1) + log(u2 − d2)$ <br>\n",
    "\n",
    "Find the Nash bargaining solution of the bargaining problem, defined as<br>\n",
    "\n",
    "$max$    $N(u1, u2)$ such that $(u1, u2) ∈ F$ <br>\n",
    "$u1,u2$ <br>\n",
    "\n",
    "1. In addition to displaying the Nash bargaining solution, display the primal optimal value and the optimal dual variables for the constraints as well.\n",
    "2. Now fix the disagreement payoff of player 2 at d2 = 2. In the same figure, plot how both players’ payoffs in the Nash bargaining solution vary as the disagreement payoff d1 of player 1 varies over the interval [2, 5]."
   ]
  },
  {
   "cell_type": "code",
   "execution_count": 18,
   "metadata": {},
   "outputs": [
    {
     "name": "stdout",
     "output_type": "stream",
     "text": [
      "Nash bargaining Solution: (4.249999934669844, 3.5000001072596256)\n",
      "Primal Optimal Value:  0.11778302005591901\n",
      "Optimal Dual Variables:  3.6170408140313444e-09 0.6666667548200322 3.202879721090295e-09 1.5363574774749631e-09\n"
     ]
    },
    {
     "data": {
      "image/png": "[encoded data removed]",
      "text/plain": [
       "<Figure size 432x288 with 1 Axes>"
      ]
     },
     "metadata": {
      "needs_background": "light"
     },
     "output_type": "display_data"
    }
   ],
   "source": [
    "import cvxpy as cp\n",
    "import matplotlib.pyplot as plt\n",
    "\n",
    "d = [3.5, 2]\n",
    "u1 = cp.Variable()\n",
    "u2 = cp.Variable()\n",
    "\n",
    "constraints = [u1 + 2*u2 <= 12, 2*u1 + u2 <= 12, u1 >= d[0], u2 >= d[1]]\n",
    "welfare = cp.Maximize(cp.log(u1 - d[0]) + cp.log(u2 - d[1]))\n",
    "problem = cp.Problem(welfare, constraints)\n",
    "\n",
    "nash = []\n",
    "\n",
    "problem.solve()\n",
    "\n",
    "print(\"Nash bargaining Solution: ({}, {})\".format(u1.value, u2.value))\n",
    "print(\"Primal Optimal Value: \", problem.value)\n",
    "print(\"Optimal Dual Variables: \", constraints[0].dual_value, constraints[1].dual_value, constraints[2].dual_value, constraints[3].dual_value)\n",
    "\n",
    "d[1] = 2\n",
    "u1_vals, u2_vals, d1_vals = [], [], []\n",
    "\n",
    "for d1 in range(2, 6):\n",
    "    constraints = [u1 + 2*u2 <= 12, 2*u1 + u2 <= 12, u1 >= d1, u2 >= 2]\n",
    "\n",
    "    welfare = cp.Maximize(cp.log(u1 - d1) + cp.log(u2 - 2))\n",
    "    problem = cp.Problem(welfare, constraints)\n",
    "    problem.solve()\n",
    "    \n",
    "    u1_vals.append(u1.value), u2_vals.append(u2.value), d1_vals.append(d1)\n",
    "\n",
    "plt.plot(d1_vals, u1_vals, label=\"Player 1\")\n",
    "plt.plot(d1_vals, u2_vals, label=\"Player 2\")\n",
    "plt.xlabel(\"Disagreement payoff of player 1, d1\")\n",
    "plt.ylabel(\"Payoff\")\n",
    "plt.legend()\n",
    "plt.show()"
   ]
  },
  {
   "attachments": {},
   "cell_type": "markdown",
   "metadata": {},
   "source": [
    "## Problem 3 [Interior Point Algorithm Using Log Barrier Method]\n",
    "Suppose the disagreement point is given by d = (2, 1). Solve Problem 2(a) by implementing the interior point algorithm that uses log barrier for inequality constraints. Display the following:\n",
    "1. initial t and final t\n",
    "2. Nash bargaining solution\n",
    "3. primal optimal value (Maximized Nash welfare)\n",
    "4. dual optimal variables for constraints\n",
    "5. inequality constraint function values at the optimum"
   ]
  },
  {
   "attachments": {},
   "cell_type": "markdown",
   "metadata": {},
   "source": [
    "***\n",
    "### Algorithm: Line Search Subroutine\n",
    "```python\n",
    "Algorithm: Line search subroutine\n",
    "given a descent direction d for f at the point x ∈ dom f, reduction factor β ∈ (0, 1), and\n",
    "acceptable descent parameter α ∈ (0, 0.5).\n",
    "t := 1\n",
    "while f(x) − f(x + td) < α*− Df(x)(td)\n",
    "    t := βt\n",
    "endwhile\n",
    "return t as the stepsize.\n",
    "```\n",
    "***\n",
    "### Algorithm: Newton descent algorithm\n",
    "```python\n",
    "choose an initial point x ∈ dom f, and a tolerance level η for the stopping criterion.\n",
    "while norm(∇f(x)) > η\n",
    "1. choose the descent direction as the Newton direction d = ([Hf(x)]^(−1))*(−∇f(x))\n",
    "2. line search. choose a stepsize t > 0 by the backtracking line search subroutine.\n",
    "3. update. x := x + td.\n",
    "endwhile\n",
    "return x as the minimum.\n",
    "```\n",
    "***\n",
    "### Algorithm: Interior point (log barrier)\n",
    "```python\n",
    "choose an initial strictly feasible primal point x, an initial value t = t0 of the accuracy\n",
    "parameter, the accuracy multiplier μ > 1 (usually a value between 10 to 20), a tolerance\n",
    "level η for the stopping criterion\n",
    "while m/t > η (current iterate is not within η-suboptimal)\n",
    "1. Increase accuracy. t = μt\n",
    "2. Centering step. Compute the central point x(t) by solving (12.5) using Newton descent\n",
    "method and x as the initial point.\n",
    "3. Update the initial point for next iteration. x = x(t)\n",
    "endwhile\n",
    "return x as the primal optimum; and λi = −1/t*fi(x) as the i-th dual optimum\n",
    "```\n",
    "***\n",
    "```math\n",
    "Gradient -> [t/(x-2) + 1/(x+2y-12) + 2/(2x+y-12) - 1/(x-2),\n",
    "            t/(y-1) + 2/(x+2y-12) + 1/(2x+y-12) - 1/(y-1)]\n",
    "\n",
    "Hessian -> [[-t/(x-2)^2 - 1/(x+2y-12)^2 - 4/(2x+y-12)^2 + 1/(x-2)^2, -2/(x+2y-12)^2 - 2/(2x+y-12)^2],\n",
    "            [-2/(x+2y-12)^2 - 2/(2x+y-12)^2, -t/(y-1)^2 - 2/(x+2y-12)^2 - 1/(2x+y-12)^2 + 1/(y-1)^2]]\n",
    "```"
   ]
  },
  {
   "cell_type": "code",
   "execution_count": 19,
   "metadata": {},
   "outputs": [
    {
     "name": "stderr",
     "output_type": "stream",
     "text": [
      "C:\\Users\\aditi\\AppData\\Local\\Temp\\ipykernel_24936\\1482822841.py:10: RuntimeWarning: invalid value encountered in log\n",
      "  return -(t * (np.log(x[0] - 2) + np.log(x[1] - 1)) + (-(np.log(-(x[0] + 2 * x[1] - 12)) + np.log(-(2 * x[0] + x[1] - 12)) + np.log(-(x[0] - 2)) + np.log(-(x[1] - 1)))))\n"
     ]
    },
    {
     "name": "stdout",
     "output_type": "stream",
     "text": [
      "Initial and Final value of t : 1 121\n",
      "Nash bargaining Solutions:  [4.01852653 3.92441859]\n",
      "Maximized Nash welfare:  1.7754634900510857\n",
      "Inequality constraint functions:  [-0.13263629943976696, -0.03852836054130826, -2.01852652611905, -2.924418587220592]\n",
      "Dual optimal variables:  [0.0010961677639650161, 0.0003184162028207294, 0.016682037405942565, 0.024168748654715636]\n"
     ]
    }
   ],
   "source": [
    "import numpy as np\n",
    "\n",
    "d1 = 2\n",
    "d2 = 1\n",
    "\n",
    "def func(x):\n",
    "    return np.log(x[0] - 2) + np.log(x[1] - 1)\n",
    "\n",
    "def f(x, t):\n",
    "    return -(t * (np.log(x[0] - 2) + np.log(x[1] - 1)) + (-(np.log(-(x[0] + 2 * x[1] - 12)) + np.log(-(2 * x[0] + x[1] - 12)) + np.log(-(x[0] - 2)) + np.log(-(x[1] - 1)))))\n",
    "\n",
    "def gradient(x0, t):\n",
    "    x, y = x0\n",
    "    a = x-d1\n",
    "    b = y-d2\n",
    "    c = x+2*y-12\n",
    "    d = 2*x+y-12\n",
    "    grad = np.zeros(2)\n",
    "    grad[0] = t/a + 1/c + 2/d - 1/a\n",
    "    grad[1] = t/b + 2/c + 1/d - 1/b\n",
    "\n",
    "    return grad\n",
    "\n",
    "def hessian(x0, t):\n",
    "    x, y = x0\n",
    "    a = x-d1\n",
    "    b = y-d2\n",
    "    c = x+2*y-12\n",
    "    d = 2*x+y-12\n",
    "    hess = np.zeros((2,2))\n",
    "    hess[0,0] = -t/(a)**2 - 1/(c)**2 - 4/(d)**2 + 1/(a)**2\n",
    "    hess[0,1] = -2/(c)**2 - 2/(d)**2\n",
    "    hess[1,0] = -2/(c)**2 - 2/(d)**2\n",
    "    hess[1,1] = -t/(b)**2 - 4/(c)**2 - 1/(d)**2 + 1/(b)**2\n",
    "\n",
    "    return hess\n",
    "\n",
    "d = [2, 1]\n",
    "x = [2.001, 1.001]\n",
    "t = 1\n",
    "t0 = t\n",
    "mu = 11\n",
    "tol = 0.1\n",
    "d1 = 2\n",
    "d2 = 1\n",
    "\n",
    "def lineSearchSubroutine(f, x, d, t, tv=0.001, alpha=0.499, beta=0.1):\n",
    "    while f(x, t) - f(x+tv*d, t) < -tv*alpha*np.dot(-gradient(x, t), d):\n",
    "        tv = beta*tv\n",
    "    return tv\n",
    "\n",
    "def newtonDescent(f, x, t, tol=0.0001):\n",
    "    while np.linalg.norm(gradient(x, t)) > tol:\n",
    "        d = np.dot(np.linalg.inv(hessian(x, t)), -gradient(x, t))\n",
    "        tv = lineSearchSubroutine(f, x, d, t)\n",
    "        x = x + tv*d\n",
    "    return x\n",
    "\n",
    "def interiorPoint(f, x, t, mu=11, tol=0.1):\n",
    "    while (4/t) > tol:\n",
    "        t = t*mu\n",
    "        x = newtonDescent(f, x, t)\n",
    "    return x, t\n",
    "\n",
    "x, t = interiorPoint(f, x, t)\n",
    "\n",
    "def dual_opt(x, t):\n",
    "    dual = [-1 / t * (x[0] + 2 * x[1] - 12), -1/t*(2*x[0] + x[1] - 12), -1/t*(-x[0] + d1), -1/t*(-x[1] + d2)]\n",
    "    return dual\n",
    "\n",
    "def ineq_con(x):\n",
    "    ineq = [x[0] + 2*x[1] - 12, 2*x[0] + x[1] - 12, -x[0] + d1, -x[1] + d2]\n",
    "    return ineq\n",
    "\n",
    "print(\"Initial and Final value of t :\", t0, t)\n",
    "\n",
    "print(\"Nash bargaining Solutions: \", x)\n",
    "\n",
    "print(\"Maximized Nash welfare: \", func(x))\n",
    "\n",
    "print(\"Inequality constraint functions: \", ineq_con(x))\n",
    "\n",
    "print(\"Dual optimal variables: \", dual_opt(x, t))"
   ]
  }
 ],
 "metadata": {
  "kernelspec": {
   "display_name": "Python 3",
   "language": "python",
   "name": "python3"
  },
  "language_info": {
   "codemirror_mode": {
    "name": "ipython",
    "version": 3
   },
   "file_extension": ".py",
   "mimetype": "text/x-python",
   "name": "python",
   "nbconvert_exporter": "python",
   "pygments_lexer": "ipython3",
   "version": "3.9.13"
  },
  "orig_nbformat": 4
 },
 "nbformat": 4,
 "nbformat_minor": 2
}
